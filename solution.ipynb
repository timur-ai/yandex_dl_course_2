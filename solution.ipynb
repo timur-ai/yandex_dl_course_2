{
 "cells": [
  {
   "cell_type": "markdown",
   "id": "e6a4557d",
   "metadata": {
    "cell_marker": "r\"\"\""
   },
   "source": [
    "# Text Autocompletion Project — From LSTM to Transformers\n",
    "\n",
    "This notebook-style Python script implements the complete pipeline required by the\n",
    "project brief. It is structured as a sequence of Markdown explanations followed by\n",
    "executable cells. The scope and goals mirror the assignment:\n",
    "\n",
    "- Prepare and normalize a corpus of short posts from a line-delimited text file.\n",
    "- Build and train a compact next-token LSTM language model suitable for constrained\n",
    "  devices.\n",
    "- Measure quality using ROUGE-1 and ROUGE-2 on held-out text completions (predicting\n",
    "  the last quarter of each text from the first three quarters).\n",
    "- Benchmark against a pretrained transformer baseline (DistilGPT2) using a simple\n",
    "  generation pipeline.\n",
    "- Compare results and provide a concise conclusion.\n",
    "\n",
    "The machine learning formulation is next-token prediction: given tokens\n",
    "$(w_1, \\dots, w_n)$, the model estimates $P(w_{n+1} \\mid w_{\\le n})$ and we\n",
    "iteratively generate until an end token or a maximum length is reached.\n",
    "\n",
    "Datasets are split deterministically into train/validation/test, tokenized at the\n",
    "word level with special tokens `<pad>`, `<unk>`, `<bos>`, `<eos>`, and converted into\n",
    "shifted input/target tensors for supervised learning.\n",
    "\n",
    "Evaluation follows the assignment’s rule of using the first 75% tokens of each text as\n",
    "the prefix and comparing generated completions to the remaining 25% via ROUGE."
   ]
  },
  {
   "cell_type": "code",
   "execution_count": 1,
   "id": "5d2ede38",
   "metadata": {},
   "outputs": [],
   "source": [
    "from __future__ import annotations\n",
    "\n",
    "import logging\n",
    "from pathlib import Path\n",
    "\n",
    "import matplotlib.pyplot as plt\n",
    "\n",
    "from src.config_utils import LSTMConfig, load_config_model\n",
    "from src.data_utils import load_processed_texts, preprocess_dataset, split_and_persist_texts\n",
    "from src.eval_lstm import evaluate_on_texts\n",
    "from src.eval_transformer_pipeline import evaluate_gpt2_on_texts\n",
    "from src.lstm_model import LSTMLanguageModel\n",
    "from src.lstm_train import create_optimizer_scheduler, save_checkpoint, train_epoch, valid_epoch\n",
    "from src.next_token_dataset import create_next_token_dataloaders\n",
    "from src.project_utils import initialize_runtime, print_environment\n",
    "from src.summary import print_comparison, print_scores, show_examples\n",
    "from src.tokenizer_vocab import WordVocab, build_supervised_tensors\n",
    "\n",
    "logging.basicConfig(level=logging.INFO)"
   ]
  },
  {
   "cell_type": "markdown",
   "id": "87b9c7de",
   "metadata": {
    "cell_marker": "r\"\"\""
   },
   "source": [
    "## Configuration\n",
    "\n",
    "We load a typed configuration object that centralizes paths, data limits, model\n",
    "hyperparameters, training settings, and generation defaults. This ensures the entire\n",
    "experiment is reproducible and easy to tweak without touching the code."
   ]
  },
  {
   "cell_type": "code",
   "execution_count": 2,
   "id": "360629d0",
   "metadata": {},
   "outputs": [],
   "source": [
    "CFG = load_config_model()"
   ]
  },
  {
   "cell_type": "markdown",
   "id": "18f20fe1",
   "metadata": {
    "cell_marker": "r\"\"\""
   },
   "source": [
    "## Runtime Initialization\n",
    "\n",
    "We set a fixed seed for reproducibility, select the device, optionally limit CPU\n",
    "threads, and print the environment. Keeping runs deterministic is crucial for fair\n",
    "comparisons between the LSTM and the transformer baseline."
   ]
  },
  {
   "cell_type": "code",
   "execution_count": 3,
   "id": "8f076f2c",
   "metadata": {},
   "outputs": [
    {
     "name": "stderr",
     "output_type": "stream",
     "text": [
      "/home/ubuntu/code/yandex_dl_course_2/src/project_utils.py:98: FutureWarning: `torch.cuda.amp.GradScaler(args...)` is deprecated. Please use `torch.amp.GradScaler('cuda', args...)` instead.\n",
      "  scaler_obj: object = CudaGradScaler(enabled=amp_enabled)\n",
      "INFO:src.project_utils:Python: 3.10.12\n",
      "INFO:src.project_utils:PyTorch: 2.8.0+cu128\n",
      "INFO:src.project_utils:Device: cuda\n",
      "INFO:src.project_utils:CUDA device: Tesla T4\n",
      "INFO:src.project_utils:Capability: (7, 5)\n",
      "INFO:src.project_utils:AMP: enabled\n",
      "INFO:src.project_utils:Torch threads: 2\n"
     ]
    }
   ],
   "source": [
    "ctx = initialize_runtime(seed=42, limit_cpu_threads=True)\n",
    "device = ctx.device\n",
    "print_environment(device)"
   ]
  },
  {
   "cell_type": "markdown",
   "id": "50df322c",
   "metadata": {
    "cell_marker": "r\"\"\""
   },
   "source": [
    "## Data Preparation (Normalization and Filtering)\n",
    "\n",
    "We ingest a line-delimited UTF-8 text file (`tweets.txt`, one text per line) and produce a single-column `text` CSV after:\n",
    "- Lowercasing and basic normalization\n",
    "- Removing URLs, mentions, and optional emojis\n",
    "- Collapsing excessive whitespace\n",
    "- Filtering by minimal character count and maximal token length\n",
    "\n",
    "This creates a clean, consistent corpus for modeling."
   ]
  },
  {
   "cell_type": "code",
   "execution_count": 4,
   "id": "2671f6cb",
   "metadata": {},
   "outputs": [
    {
     "name": "stdout",
     "output_type": "stream",
     "text": [
      "Processed dataset written to: data/dataset_processed.csv\n"
     ]
    }
   ],
   "source": [
    "processed_csv = preprocess_dataset(\n",
    "    raw_data_path=CFG.data.raw_data_path,\n",
    "    out_path=CFG.data.processed_path,\n",
    "    dev_limit=CFG.data.dev_limit,\n",
    "    min_chars=CFG.preprocessing.min_chars,\n",
    "    max_tokens=CFG.preprocessing.max_tokens,\n",
    ")\n",
    "print(f\"Processed dataset written to: {processed_csv}\")"
   ]
  },
  {
   "cell_type": "markdown",
   "id": "9355b493",
   "metadata": {
    "cell_marker": "r\"\"\""
   },
   "source": [
    "## Load Processed Texts\n",
    "\n",
    "We read the normalized single-column corpus. For fast iteration, we may limit the\n",
    "number of examples during development via the config."
   ]
  },
  {
   "cell_type": "code",
   "execution_count": 5,
   "id": "bdaeb336",
   "metadata": {},
   "outputs": [
    {
     "name": "stdout",
     "output_type": "stream",
     "text": [
      "Loaded 1,594,646 texts from data/dataset_processed.csv\n",
      "Sample: [\"- awww, that's a bummer. you shoulda got david carr of third day to do it. ;d\", \"is upset that he can't update his facebook by texting it... and might cry as a result school today also. blah!\", 'i dived many times for the ball. managed to save 50% the rest go out of bounds']\n"
     ]
    }
   ],
   "source": [
    "texts = load_processed_texts(CFG.data.processed_path, limit=CFG.data.dev_limit)\n",
    "print(f\"Loaded {len(texts):,} texts from {CFG.data.processed_path}\")\n",
    "print(\"Sample:\", texts[:3])"
   ]
  },
  {
   "cell_type": "markdown",
   "id": "9ddaff12",
   "metadata": {
    "cell_marker": "r\"\"\""
   },
   "source": [
    "## Deterministic Split: Train / Validation / Test\n",
    "\n",
    "We perform a seeded shuffle and split into train, validation, and test subsets, then\n",
    "persist each split to disk. This mirrors how production data pipelines audit and\n",
    "version data artifacts."
   ]
  },
  {
   "cell_type": "code",
   "execution_count": 6,
   "id": "522cfe71",
   "metadata": {},
   "outputs": [
    {
     "name": "stderr",
     "output_type": "stream",
     "text": [
      "INFO:src.data_utils:Wrote splits: {'train': 'data/train.csv', 'val': 'data/val.csv', 'test': 'data/test.csv'} {'sizes': {'train': 1275717, 'val': 159465, 'test': 159464}}\n",
      "INFO:src.data_utils:Loaded splits: 1275717 159465 159464\n"
     ]
    }
   ],
   "source": [
    "train_texts, val_texts, test_texts, _paths = split_and_persist_texts(\n",
    "    texts=texts,\n",
    "    train_path=CFG.data.train_path,\n",
    "    val_path=CFG.data.val_path,\n",
    "    test_path=CFG.data.test_path,\n",
    "    train_frac=CFG.split.train_frac,\n",
    "    val_frac=CFG.split.val_frac,\n",
    "    seed=CFG.split.seed,\n",
    "    dev_limit=CFG.data.dev_limit,\n",
    ")"
   ]
  },
  {
   "cell_type": "markdown",
   "id": "f573931b",
   "metadata": {
    "cell_marker": "r\"\"\""
   },
   "source": [
    "## Tokenizer and Vocabulary\n",
    "\n",
    "We build a compact word-level vocabulary with special tokens `<pad>`, `<unk>`, `<bos>`,\n",
    "and `<eos>`. The tokenizer uses a configurable token pattern and frequency threshold to\n",
    "control vocabulary size, trading off coverage and memory footprint."
   ]
  },
  {
   "cell_type": "code",
   "execution_count": 7,
   "id": "7883a3e2",
   "metadata": {},
   "outputs": [
    {
     "name": "stdout",
     "output_type": "stream",
     "text": [
      "Vocab size (including specials): 146\n",
      "Special IDs: {'pad': 0, 'unk': 1, 'bos': 2, 'eos': 3}\n"
     ]
    }
   ],
   "source": [
    "vocab = WordVocab.build(\n",
    "    texts,\n",
    "    special_tokens={\n",
    "        \"pad\": CFG.special_tokens.pad,\n",
    "        \"unk\": CFG.special_tokens.unk,\n",
    "        \"bos\": CFG.special_tokens.bos,\n",
    "        \"eos\": CFG.special_tokens.eos,\n",
    "    },\n",
    "    max_vocab_size=CFG.tokenizer.max_vocab_size,\n",
    "    token_pattern=CFG.tokenizer.token_pattern,\n",
    "    min_freq=CFG.tokenizer.min_freq,\n",
    ")\n",
    "print(\"Vocab size (including specials):\", len(vocab.id_to_token))\n",
    "print(\"Special IDs:\", {k: getattr(vocab, f\"{k}_id\") for k in (\"pad\", \"unk\", \"bos\", \"eos\")})"
   ]
  },
  {
   "cell_type": "markdown",
   "id": "d85086a6",
   "metadata": {
    "cell_marker": "r\"\"\""
   },
   "source": [
    "## Supervised Tensors for Next-Token Prediction\n",
    "\n",
    "We convert each text into three tensors per split:\n",
    "- `input_ids`: token IDs including `<bos>` and `<eos>`, padded to a fixed length\n",
    "- `target_ids`: `input_ids` shifted left by one position\n",
    "- `attention_mask`: marks valid (non-pad) positions for loss masking\n",
    "\n",
    "This enables standard cross-entropy training for next-token prediction."
   ]
  },
  {
   "cell_type": "code",
   "execution_count": 8,
   "id": "7f423dba",
   "metadata": {},
   "outputs": [
    {
     "name": "stdout",
     "output_type": "stream",
     "text": [
      "Splits: 1275717 159465 159464\n",
      "Train tensors: torch.Size([1275717, 64]) torch.Size([1275717, 64]) torch.Size([1275717, 64])\n",
      "Val tensors: torch.Size([159465, 64]) torch.Size([159465, 64]) torch.Size([159465, 64])\n",
      "Test tensors: torch.Size([159464, 64]) torch.Size([159464, 64]) torch.Size([159464, 64])\n"
     ]
    }
   ],
   "source": [
    "train_input_ids, train_target_ids, train_attention_mask = build_supervised_tensors(\n",
    "    train_texts, vocab, max_len=CFG.sequence.max_length, device=device\n",
    ")\n",
    "val_input_ids, val_target_ids, val_attention_mask = build_supervised_tensors(\n",
    "    val_texts, vocab, max_len=CFG.sequence.max_length, device=device\n",
    ")\n",
    "test_input_ids, test_target_ids, test_attention_mask = build_supervised_tensors(\n",
    "    test_texts, vocab, max_len=CFG.sequence.max_length, device=device\n",
    ")\n",
    "\n",
    "print(\"Splits:\", len(train_texts), len(val_texts), len(test_texts))\n",
    "print(\"Train tensors:\", train_input_ids.shape, train_target_ids.shape, train_attention_mask.shape)\n",
    "print(\"Val tensors:\", val_input_ids.shape, val_target_ids.shape, val_attention_mask.shape)\n",
    "print(\"Test tensors:\", test_input_ids.shape, test_target_ids.shape, test_attention_mask.shape)"
   ]
  },
  {
   "cell_type": "markdown",
   "id": "7f4b48b7",
   "metadata": {
    "cell_marker": "r\"\"\""
   },
   "source": [
    "## DataLoaders\n",
    "\n",
    "We wrap the tensors into `DataLoader`s for mini-batch training and evaluation, shuffling\n",
    "only the training split. This keeps validation/test metrics comparable across runs."
   ]
  },
  {
   "cell_type": "code",
   "execution_count": 9,
   "id": "4f1b3931",
   "metadata": {},
   "outputs": [],
   "source": [
    "train_loader, val_loader, test_loader = create_next_token_dataloaders(\n",
    "    train_tensors=(train_input_ids, train_target_ids, train_attention_mask),\n",
    "    val_tensors=(val_input_ids, val_target_ids, val_attention_mask),\n",
    "    test_tensors=(test_input_ids, test_target_ids, test_attention_mask),\n",
    "    cfg=CFG,\n",
    "    device=device,\n",
    ")"
   ]
  },
  {
   "cell_type": "markdown",
   "id": "d84f1323",
   "metadata": {
    "cell_marker": "r\"\"\""
   },
   "source": [
    "## LSTM Language Model\n",
    "\n",
    "We instantiate a compact LSTM-based language model configured for mobile-friendly\n",
    "footprint. The model predicts the next token distribution at each time step."
   ]
  },
  {
   "cell_type": "code",
   "execution_count": 10,
   "id": "6c24c93b",
   "metadata": {},
   "outputs": [],
   "source": [
    "config = LSTMConfig(\n",
    "    num_embeddings=len(vocab.id_to_token),\n",
    "    embedding_dim=CFG.model.lstm.embedding_dim,\n",
    "    hidden_size=CFG.model.lstm.hidden_size,\n",
    "    num_layers=CFG.model.lstm.num_layers,\n",
    "    dropout=CFG.model.lstm.dropout,\n",
    "    pad_token_id=vocab.pad_id,\n",
    ")\n",
    "model = LSTMLanguageModel(config).to(device)"
   ]
  },
  {
   "cell_type": "markdown",
   "id": "f31c6cac",
   "metadata": {
    "cell_marker": "r\"\"\""
   },
   "source": [
    "### Parameter Count\n",
    "\n",
    "We report total and trainable parameters to gauge capacity and memory cost. This helps\n",
    "justify design choices when targeting limited-resource environments."
   ]
  },
  {
   "cell_type": "code",
   "execution_count": 11,
   "id": "6d2409fa",
   "metadata": {},
   "outputs": [
    {
     "name": "stdout",
     "output_type": "stream",
     "text": [
      "Model params: total=385,938, trainable=385,938\n"
     ]
    }
   ],
   "source": [
    "num_params = sum(p.numel() for p in model.parameters())\n",
    "num_params_trainable = sum(p.numel() for p in model.parameters() if p.requires_grad)\n",
    "print(f\"Model params: total={num_params:,}, trainable={num_params_trainable:,}\")"
   ]
  },
  {
   "cell_type": "markdown",
   "id": "0d201f82",
   "metadata": {
    "cell_marker": "r\"\"\""
   },
   "source": [
    "## Optimization Setup\n",
    "\n",
    "We use standard cross-entropy training with an optimizer configured from the config and\n",
    "an optional StepLR scheduler. Gradient clipping is applied during the training step to\n",
    "stabilize optimization."
   ]
  },
  {
   "cell_type": "code",
   "execution_count": 12,
   "id": "1292ea64",
   "metadata": {},
   "outputs": [],
   "source": [
    "optimizer, scheduler = create_optimizer_scheduler(\n",
    "    model,\n",
    "    learning_rate=CFG.training.learning_rate,\n",
    "    weight_decay=CFG.training.weight_decay,\n",
    "    use_scheduler=CFG.scheduler.use,\n",
    "    step_size=CFG.scheduler.step_size,\n",
    "    gamma=CFG.scheduler.gamma,\n",
    ")"
   ]
  },
  {
   "cell_type": "markdown",
   "id": "4dbc1667",
   "metadata": {
    "cell_marker": "\"\"\""
   },
   "source": [
    "## Training Loop and Loss Curves\n",
    "\n",
    "We train for a small number of epochs, recording train/validation loss per epoch. A\n",
    "loss curve is saved to `data/loss_curve.png` for quick inspection of convergence and\n",
    "generalization."
   ]
  },
  {
   "cell_type": "code",
   "execution_count": 13,
   "id": "a6ab3cca",
   "metadata": {},
   "outputs": [
    {
     "name": "stdout",
     "output_type": "stream",
     "text": [
      "Starting training...\n"
     ]
    },
    {
     "data": {
      "application/vnd.jupyter.widget-view+json": {
       "model_id": "4cd458d37e3b42d88435d6e500b95595",
       "version_major": 2,
       "version_minor": 0
      },
      "text/plain": [
       "epoch 1/10:   0%|          | 0/4984 [00:00<?, ?it/s]"
      ]
     },
     "metadata": {},
     "output_type": "display_data"
    },
    {
     "data": {
      "application/vnd.jupyter.widget-view+json": {
       "model_id": "965679c136c54715a6e8e3b6e1b68dc1",
       "version_major": 2,
       "version_minor": 0
      },
      "text/plain": [
       "valid:   0%|          | 0/623 [00:00<?, ?it/s]"
      ]
     },
     "metadata": {},
     "output_type": "display_data"
    },
    {
     "name": "stdout",
     "output_type": "stream",
     "text": [
      "epoch 1: train=1.8636 val=1.5931\n"
     ]
    },
    {
     "data": {
      "application/vnd.jupyter.widget-view+json": {
       "model_id": "b336cde7f93149b9a453e1f21c91f7e0",
       "version_major": 2,
       "version_minor": 0
      },
      "text/plain": [
       "epoch 2/10:   0%|          | 0/4984 [00:00<?, ?it/s]"
      ]
     },
     "metadata": {},
     "output_type": "display_data"
    },
    {
     "data": {
      "application/vnd.jupyter.widget-view+json": {
       "model_id": "8008c26bb9a94f86803639fdbe4cc842",
       "version_major": 2,
       "version_minor": 0
      },
      "text/plain": [
       "valid:   0%|          | 0/623 [00:00<?, ?it/s]"
      ]
     },
     "metadata": {},
     "output_type": "display_data"
    },
    {
     "name": "stdout",
     "output_type": "stream",
     "text": [
      "epoch 2: train=1.6400 val=1.5397\n"
     ]
    },
    {
     "data": {
      "application/vnd.jupyter.widget-view+json": {
       "model_id": "cd55e8c3000f446bada4dc3dd235ba19",
       "version_major": 2,
       "version_minor": 0
      },
      "text/plain": [
       "epoch 3/10:   0%|          | 0/4984 [00:00<?, ?it/s]"
      ]
     },
     "metadata": {},
     "output_type": "display_data"
    },
    {
     "data": {
      "application/vnd.jupyter.widget-view+json": {
       "model_id": "8aea0484320a4e1588b80bedc764744b",
       "version_major": 2,
       "version_minor": 0
      },
      "text/plain": [
       "valid:   0%|          | 0/623 [00:00<?, ?it/s]"
      ]
     },
     "metadata": {},
     "output_type": "display_data"
    },
    {
     "name": "stdout",
     "output_type": "stream",
     "text": [
      "epoch 3: train=1.6055 val=1.5177\n"
     ]
    },
    {
     "data": {
      "application/vnd.jupyter.widget-view+json": {
       "model_id": "8faefac2e86143d3ac20c94bd1a0265b",
       "version_major": 2,
       "version_minor": 0
      },
      "text/plain": [
       "epoch 4/10:   0%|          | 0/4984 [00:00<?, ?it/s]"
      ]
     },
     "metadata": {},
     "output_type": "display_data"
    },
    {
     "data": {
      "application/vnd.jupyter.widget-view+json": {
       "model_id": "cc167fe5b5764b5ba03e2c75f199c415",
       "version_major": 2,
       "version_minor": 0
      },
      "text/plain": [
       "valid:   0%|          | 0/623 [00:00<?, ?it/s]"
      ]
     },
     "metadata": {},
     "output_type": "display_data"
    },
    {
     "name": "stdout",
     "output_type": "stream",
     "text": [
      "epoch 4: train=1.5885 val=1.5054\n"
     ]
    },
    {
     "data": {
      "application/vnd.jupyter.widget-view+json": {
       "model_id": "6eaeec46984340d8b09eab454c21ba40",
       "version_major": 2,
       "version_minor": 0
      },
      "text/plain": [
       "epoch 5/10:   0%|          | 0/4984 [00:00<?, ?it/s]"
      ]
     },
     "metadata": {},
     "output_type": "display_data"
    },
    {
     "data": {
      "application/vnd.jupyter.widget-view+json": {
       "model_id": "aa409ebd7fcd4b0bb5eddd670857531e",
       "version_major": 2,
       "version_minor": 0
      },
      "text/plain": [
       "valid:   0%|          | 0/623 [00:00<?, ?it/s]"
      ]
     },
     "metadata": {},
     "output_type": "display_data"
    },
    {
     "name": "stdout",
     "output_type": "stream",
     "text": [
      "epoch 5: train=1.5783 val=1.4971\n"
     ]
    },
    {
     "data": {
      "application/vnd.jupyter.widget-view+json": {
       "model_id": "8271901cc2044f8a8f7d235d2430dd06",
       "version_major": 2,
       "version_minor": 0
      },
      "text/plain": [
       "epoch 6/10:   0%|          | 0/4984 [00:00<?, ?it/s]"
      ]
     },
     "metadata": {},
     "output_type": "display_data"
    },
    {
     "data": {
      "application/vnd.jupyter.widget-view+json": {
       "model_id": "35c7abeb93bc4a92b3be5ea969c8d73d",
       "version_major": 2,
       "version_minor": 0
      },
      "text/plain": [
       "valid:   0%|          | 0/623 [00:00<?, ?it/s]"
      ]
     },
     "metadata": {},
     "output_type": "display_data"
    },
    {
     "name": "stdout",
     "output_type": "stream",
     "text": [
      "epoch 6: train=1.5711 val=1.4913\n"
     ]
    },
    {
     "data": {
      "application/vnd.jupyter.widget-view+json": {
       "model_id": "60f20fe321144d7fb912f202ef7b50dd",
       "version_major": 2,
       "version_minor": 0
      },
      "text/plain": [
       "epoch 7/10:   0%|          | 0/4984 [00:00<?, ?it/s]"
      ]
     },
     "metadata": {},
     "output_type": "display_data"
    },
    {
     "data": {
      "application/vnd.jupyter.widget-view+json": {
       "model_id": "0fcf707bb84e43708bbc0da05060acd0",
       "version_major": 2,
       "version_minor": 0
      },
      "text/plain": [
       "valid:   0%|          | 0/623 [00:00<?, ?it/s]"
      ]
     },
     "metadata": {},
     "output_type": "display_data"
    },
    {
     "name": "stdout",
     "output_type": "stream",
     "text": [
      "epoch 7: train=1.5657 val=1.4870\n"
     ]
    },
    {
     "data": {
      "application/vnd.jupyter.widget-view+json": {
       "model_id": "1d3d01668eaf4bce942f07fe12c4125b",
       "version_major": 2,
       "version_minor": 0
      },
      "text/plain": [
       "epoch 8/10:   0%|          | 0/4984 [00:00<?, ?it/s]"
      ]
     },
     "metadata": {},
     "output_type": "display_data"
    },
    {
     "data": {
      "application/vnd.jupyter.widget-view+json": {
       "model_id": "4005a18cbcd1400782d144f16fe62838",
       "version_major": 2,
       "version_minor": 0
      },
      "text/plain": [
       "valid:   0%|          | 0/623 [00:00<?, ?it/s]"
      ]
     },
     "metadata": {},
     "output_type": "display_data"
    },
    {
     "name": "stdout",
     "output_type": "stream",
     "text": [
      "epoch 8: train=1.5616 val=1.4836\n"
     ]
    },
    {
     "data": {
      "application/vnd.jupyter.widget-view+json": {
       "model_id": "66c5567bc4bb497d970a13464ae382f7",
       "version_major": 2,
       "version_minor": 0
      },
      "text/plain": [
       "epoch 9/10:   0%|          | 0/4984 [00:00<?, ?it/s]"
      ]
     },
     "metadata": {},
     "output_type": "display_data"
    },
    {
     "data": {
      "application/vnd.jupyter.widget-view+json": {
       "model_id": "86f9466668084ab9b69202cb69ce404a",
       "version_major": 2,
       "version_minor": 0
      },
      "text/plain": [
       "valid:   0%|          | 0/623 [00:00<?, ?it/s]"
      ]
     },
     "metadata": {},
     "output_type": "display_data"
    },
    {
     "name": "stdout",
     "output_type": "stream",
     "text": [
      "epoch 9: train=1.5583 val=1.4804\n"
     ]
    },
    {
     "data": {
      "application/vnd.jupyter.widget-view+json": {
       "model_id": "c66bd267217a41ac93666744b8056068",
       "version_major": 2,
       "version_minor": 0
      },
      "text/plain": [
       "epoch 10/10:   0%|          | 0/4984 [00:00<?, ?it/s]"
      ]
     },
     "metadata": {},
     "output_type": "display_data"
    },
    {
     "data": {
      "application/vnd.jupyter.widget-view+json": {
       "model_id": "c0a4751d7ef94ba9b786684355a66351",
       "version_major": 2,
       "version_minor": 0
      },
      "text/plain": [
       "valid:   0%|          | 0/623 [00:00<?, ?it/s]"
      ]
     },
     "metadata": {},
     "output_type": "display_data"
    },
    {
     "name": "stdout",
     "output_type": "stream",
     "text": [
      "epoch 10: train=1.5555 val=1.4782\n"
     ]
    },
    {
     "data": {
      "image/png": "[encoded data removed]",
      "text/plain": [
       "<Figure size 700x400 with 1 Axes>"
      ]
     },
     "metadata": {},
     "output_type": "display_data"
    }
   ],
   "source": [
    "print(\"Starting training...\")\n",
    "train_losses: list[float] = []\n",
    "val_losses: list[float] = []\n",
    "for epoch in range(1, (CFG.training.epochs or 1) + 1):\n",
    "    tr = train_epoch(\n",
    "        model,\n",
    "        train_loader,\n",
    "        optimizer,\n",
    "        device,\n",
    "        max_grad_norm=CFG.training.max_grad_norm,\n",
    "        progress_desc=f\"epoch {epoch}/{CFG.training.epochs or 1}\",\n",
    "    )\n",
    "    va = valid_epoch(model, val_loader, device)\n",
    "    if scheduler is not None:\n",
    "        scheduler.step()\n",
    "    train_losses.append(tr)\n",
    "    val_losses.append(va)\n",
    "    print(f\"epoch {epoch}: train={tr:.4f} val={va:.4f}\")\n",
    "\n",
    "if len(train_losses) > 0:\n",
    "    epochs_axis = list(range(1, len(train_losses) + 1))\n",
    "    plt.figure(figsize=(7, 4))\n",
    "    plt.plot(epochs_axis, train_losses, label=\"Train loss\")\n",
    "    plt.plot(epochs_axis, val_losses, label=\"Val loss\")\n",
    "    plt.xlabel(\"Epoch\")\n",
    "    plt.ylabel(\"Loss\")\n",
    "    plt.title(\"Training/Validation Loss\")\n",
    "    plt.grid(True, alpha=0.3)\n",
    "    plt.legend()\n",
    "    plt.tight_layout()\n",
    "    plt.show()\n",
    "    plt.close()"
   ]
  },
  {
   "cell_type": "markdown",
   "id": "178c052b",
   "metadata": {
    "cell_marker": "\"\"\""
   },
   "source": [
    "## Checkpointing\n",
    "\n",
    "We save a minimal checkpoint containing the model parameters and the vocabulary. This\n",
    "is sufficient to run inference and evaluation later without retraining."
   ]
  },
  {
   "cell_type": "code",
   "execution_count": 14,
   "id": "42973faf",
   "metadata": {},
   "outputs": [
    {
     "name": "stdout",
     "output_type": "stream",
     "text": [
      "Saved model state and vocab to data/.\n"
     ]
    }
   ],
   "source": [
    "save_checkpoint(model, vocab, state_path=str(Path(\"data\") / \"lstm_state.pt\"), vocab_path=str(Path(\"data\") / \"vocab.pt\"))\n",
    "print(\"Saved model state and vocab to data/.\")"
   ]
  },
  {
   "cell_type": "markdown",
   "id": "aa1d10cf",
   "metadata": {
    "cell_marker": "\"\"\""
   },
   "source": [
    "## Evaluation: LSTM on Test Split\n",
    "\n",
    "Using the assignment protocol, we evaluate ROUGE-1/2 (precision, recall, F1) by\n",
    "generating the last quarter of each text from its first three quarters and comparing to\n",
    "the reference continuation."
   ]
  },
  {
   "cell_type": "code",
   "execution_count": 15,
   "id": "530ff44e",
   "metadata": {},
   "outputs": [
    {
     "data": {
      "application/vnd.jupyter.widget-view+json": {
       "model_id": "7c2fa39ccc0f4967bc6468f02999b11d",
       "version_major": 2,
       "version_minor": 0
      },
      "text/plain": [
       "eval:   0%|          | 0/159464 [00:00<?, ?it/s]"
      ]
     },
     "metadata": {},
     "output_type": "display_data"
    },
    {
     "name": "stdout",
     "output_type": "stream",
     "text": [
      "LSTM test ROUGE: {'rouge1_p': 0.3707, 'rouge1_r': 0.5536, 'rouge1_f1': 0.4197, 'rouge2_p': 0.1321, 'rouge2_r': 0.2086, 'rouge2_f1': 0.1505}\n"
     ]
    }
   ],
   "source": [
    "test_scores = evaluate_on_texts(\n",
    "    model,\n",
    "    test_texts,\n",
    "    vocab=vocab,\n",
    "    device=device,\n",
    "    max_new_tokens=CFG.generation.max_new_tokens,\n",
    "    max_samples=CFG.evaluation.test_samples,\n",
    ")\n",
    "print(\"LSTM test ROUGE:\", {k: round(v, 4) for k, v in test_scores.items()})"
   ]
  },
  {
   "cell_type": "markdown",
   "id": "0983a62b",
   "metadata": {
    "cell_marker": "\"\"\""
   },
   "source": [
    "## Evaluation: DistilGPT2 Baseline\n",
    "\n",
    "We benchmark a pretrained `distilgpt2` via the transformers text-generation pipeline on\n",
    "the same protocol to contextualize the LSTM’s performance."
   ]
  },
  {
   "cell_type": "code",
   "execution_count": 16,
   "id": "94be73c0",
   "metadata": {},
   "outputs": [
    {
     "data": {
      "application/vnd.jupyter.widget-view+json": {
       "model_id": "b27471c483174b65a5f716673ce5b837",
       "version_major": 2,
       "version_minor": 0
      },
      "text/plain": [
       "gpt2-eval:   0%|          | 0/159464 [00:00<?, ?it/s]"
      ]
     },
     "metadata": {},
     "output_type": "display_data"
    },
    {
     "name": "stdout",
     "output_type": "stream",
     "text": [
      "GPT2 Test ROUGE: {'rouge1_p': 0.1716, 'rouge1_r': 0.3686, 'rouge1_f1': 0.2252, 'rouge2_p': 0.0455, 'rouge2_r': 0.0971, 'rouge2_f1': 0.0603}\n"
     ]
    }
   ],
   "source": [
    "gpt2_test_scores = evaluate_gpt2_on_texts(\n",
    "    texts=test_texts,\n",
    "    vocab=vocab,\n",
    "    device=device,\n",
    "    model_name=CFG.gpt2.model_name,\n",
    "    max_new_tokens=CFG.generation.max_new_tokens,\n",
    "    max_samples=CFG.gpt2.eval_samples,\n",
    "    token_pattern=CFG.tokenizer.token_pattern,\n",
    ")\n",
    "print(\"GPT2 Test ROUGE:\", {k: round(v, 4) for k, v in gpt2_test_scores.items()})"
   ]
  },
  {
   "cell_type": "markdown",
   "id": "68dddb36",
   "metadata": {
    "cell_marker": "\"\"\""
   },
   "source": [
    "## Results Summary and Qualitative Examples\n",
    "\n",
    "We print ROUGE summaries for both models, provide a side-by-side comparison, and show\n",
    "qualitative completions for a handful of train/validation/test samples to build\n",
    "intuition beyond aggregate metrics."
   ]
  },
  {
   "cell_type": "code",
   "execution_count": 17,
   "id": "9c411e10",
   "metadata": {},
   "outputs": [
    {
     "name": "stdout",
     "output_type": "stream",
     "text": [
      "\n",
      "LSTM Test ROUGE (P/R/F1):\n",
      "{'rouge1_p': '0.371', 'rouge1_r': '0.554', 'rouge1_f1': '0.420', 'rouge2_p': '0.132', 'rouge2_r': '0.209', 'rouge2_f1': '0.150'}\n",
      "\n",
      "DistilGPT2 Test ROUGE (P/R/F1):\n",
      "{'rouge1_p': '0.172', 'rouge1_r': '0.369', 'rouge1_f1': '0.225', 'rouge2_p': '0.045', 'rouge2_r': '0.097', 'rouge2_f1': '0.060'}\n",
      "\n",
      "Delta DistilGPT2 (Test) vs LSTM (Test) (positive means DistilGPT2 (Test) better):\n",
      "{'rouge1_f1': '-0.195', 'rouge2_f1': '-0.090', 'rouge1_p': '-0.199', 'rouge1_r': '-0.185', 'rouge2_p': '-0.087', 'rouge2_r': '-0.111'}\n"
     ]
    }
   ],
   "source": [
    "print_scores(\"LSTM Test ROUGE (P/R/F1):\", test_scores)\n",
    "print_scores(\"DistilGPT2 Test ROUGE (P/R/F1):\", gpt2_test_scores)\n",
    "print_comparison(\"LSTM (Test)\", test_scores, \"DistilGPT2 (Test)\", gpt2_test_scores)"
   ]
  },
  {
   "cell_type": "code",
   "execution_count": 18,
   "id": "17104d52",
   "metadata": {},
   "outputs": [
    {
     "name": "stdout",
     "output_type": "stream",
     "text": [
      "\n",
      "---\n",
      "prefix: h o   f a r   o u l d   u   a n t   t o   g o   f o r   a   f r i e n d ?  \n",
      "prefix_len: 39 ref_tail_len: 14\n",
      "pred  : i   a n t   t o   g o   t o   t h e   b\n",
      "ref   : u p   t o   u ,   y i n g\n",
      "ROUGE1-F1: 0.4848\n",
      "\n",
      "---\n",
      "prefix: a h l e y y y !   h e y z   h o   a r e   y a ?   o m g   c h o o l   t o m o r r o   t h i\n",
      "prefix_len: 47 ref_tail_len: 16\n",
      "pred  :   m o r n i n g   i   a   g o o d   t o\n",
      "ref   :   u c k .   b i g   t i m e .\n",
      "ROUGE1-F1: 0.4571\n",
      "\n",
      "---\n",
      "prefix: a a y   t o   a t c h   d r a g   m e  \n",
      "prefix_len: 21 ref_tail_len: 8\n",
      "pred  : t o   b e   a   g o o d   t i m e   i t\n",
      "ref   : t o   h e l l\n",
      "ROUGE1-F1: 0.2963\n",
      "\n",
      "---\n",
      "prefix: n o t   a t c h i n g   t h e   r a c e , t h i   a   u p p o e d   t o   b e   t h e   m t l   r a c e\n",
      "prefix_len: 53 ref_tail_len: 18\n",
      "pred  :   t o   t h e   b e t   t i m e   i t h\n",
      "ref   :   ,   i ' m   i n   a u r o r a .\n",
      "ROUGE1-F1: 0.4324\n",
      "\n",
      "---\n",
      "prefix: t h e   e a o n   f i n a l e   o f   g o i p   g i r l   a   o   g o o d ! ! . .   c a n ' t   a i\n",
      "prefix_len: 51 ref_tail_len: 18\n",
      "pred  : t   t o   e e   y o u   t o   g o   t o\n",
      "ref   : t   f o r   n e x t   e a o n . .\n",
      "ROUGE1-F1: 0.4865\n",
      "\n",
      "---\n",
      "prefix: a h   t h\n",
      "prefix_len: 6 ref_tail_len: 3\n",
      "pred  : a t   a   a   g o o d   t i m e   i t h\n",
      "ref   : n x\n",
      "ROUGE1-F1: 0.0\n"
     ]
    }
   ],
   "source": [
    "show_examples(model, train_texts, vocab, device, CFG.generation.max_new_tokens, k=3)\n",
    "show_examples(model, val_texts, vocab, device, CFG.generation.max_new_tokens, k=3)"
   ]
  },
  {
   "cell_type": "code",
   "execution_count": 19,
   "id": "84409c69",
   "metadata": {},
   "outputs": [
    {
     "name": "stdout",
     "output_type": "stream",
     "text": [
      "\n",
      "---\n",
      "prefix: p a i n t i n g   r e a l   t h i n g   i   n o t   t h e   t h i n g   i ' m   t h e   b e t   a t   h a v e   t o   r e - d o  \n",
      "prefix_len: 66 ref_tail_len: 20\n",
      "pred  : t h e   b e t   t o   t h e   b e t   t\n",
      "ref   : m y   p a i n t i n g   e n t i r e l y\n",
      "ROUGE1-F1: 0.3\n",
      "\n",
      "---\n",
      "prefix: b u t   n o   v i d e o   o r   v o i c e   a c t i v a t i o n   i   g u e   e ' l l   b e  \n",
      "prefix_len: 48 ref_tail_len: 16\n",
      "pred  : a   g o o d   t i m e   i t h   m y   b\n",
      "ref   : g e t t i n g   t h e   3 g  \n",
      "ROUGE1-F1: 0.5143\n",
      "\n",
      "---\n",
      "prefix: b a b y i t t i n g   m y   f a v o r i t e   b o y .   t h e n   c o m i n g   h o m\n",
      "prefix_len: 44 ref_tail_len: 15\n",
      "pred  : e   a n d   i   a m   o   b a d   i t h\n",
      "ref   : e   a n d   r e a d i n g .\n",
      "ROUGE1-F1: 0.5294\n",
      "\n",
      "---\n",
      "prefix: y u c k   o   o r r y   -   i   h a d   t o   f l a t   l a t   e e k   o   i   f e e l   y o u r   p a i n .   i   t h i n k   1\n",
      "prefix_len: 66 ref_tail_len: 20\n",
      "pred  : 0 0   f o l l o e r   a n d   i   a m  \n",
      "ref   : 1 4   m u t   b e   g r o i n g   g l a\n",
      "ROUGE1-F1: 0.6\n",
      "\n",
      "---\n",
      "prefix: i   m i   v a n c o u v e r   a l r e a d y   o   m a n y   f u n   t\n",
      "prefix_len: 36 ref_tail_len: 12\n",
      "pred  : o   t h e   b e t   t o   t h e   b e t\n",
      "ref   : h i n g   t o   d o !\n",
      "ROUGE1-F1: 0.3871\n",
      "\n",
      "---\n",
      "prefix: o u t d o o r   b r u n c h   i t h   t h e   p\n",
      "prefix_len: 25 ref_tail_len: 9\n",
      "pred  : a r t y   t o   t h e   b e a c h   t o\n",
      "ref   : a r e n t   f t\n",
      "ROUGE1-F1: 0.4286\n",
      "\n",
      "---\n",
      "prefix: a n o t h e r   d a y ,   a n o t h e r   h a\n",
      "prefix_len: 24 ref_tail_len: 8\n",
      "pred  : r d   t o   g o   t o   t h e   b e a c\n",
      "ref   : n g o v a   x\n",
      "ROUGE1-F1: 0.2963\n",
      "\n",
      "---\n",
      "prefix: n o t   o r t h   t h r o i n g   u p .   i   d o n ' t   k n o   h a t   m\n",
      "prefix_len: 39 ref_tail_len: 13\n",
      "pred  : y   b a b y   i   a   g o o d   t i m e\n",
      "ref   : y   p r o b l e m   i .\n",
      "ROUGE1-F1: 0.5\n"
     ]
    }
   ],
   "source": [
    "show_examples(model, test_texts, vocab, device, CFG.generation.max_new_tokens, k=8)"
   ]
  },
  {
   "cell_type": "markdown",
   "id": "dc1ee398",
   "metadata": {
    "cell_marker": "\"\"\""
   },
   "source": [
    "## Conclusion\n",
    "\n",
    "We select the better model by ROUGE-1 F1 on the test split and print the decision. In\n",
    "practice, the transformer baseline often wins on quality, while the LSTM may be\n",
    "preferable under strict memory and latency constraints. The final choice depends on the\n",
    "target device budget and user experience requirements."
   ]
  },
  {
   "cell_type": "code",
   "execution_count": 20,
   "id": "ad643e30",
   "metadata": {
    "lines_to_next_cell": 0
   },
   "outputs": [
    {
     "name": "stdout",
     "output_type": "stream",
     "text": [
      "Conclusion: LSTM performed better on ROUGE-1 F1 on the test split.\n"
     ]
    }
   ],
   "source": [
    "gpt2_r1 = gpt2_test_scores.get(\"rouge1_f1\")\n",
    "lstm_r1 = test_scores.get(\"rouge1_f1\")\n",
    "gpt2_test = float(gpt2_r1) if isinstance(gpt2_r1, int | float) and gpt2_r1 == gpt2_r1 else float(\"nan\")\n",
    "lstm_test = float(lstm_r1) if isinstance(lstm_r1, int | float) and lstm_r1 == lstm_r1 else float(\"nan\")\n",
    "better = \"DistilGPT2\" if gpt2_test > lstm_test else \"LSTM\"\n",
    "print(f\"Conclusion: {better} performed better on ROUGE-1 F1 on the test split.\")"
   ]
  },
  {
   "cell_type": "code",
   "execution_count": null,
   "id": "b3dc441a",
   "metadata": {},
   "outputs": [],
   "source": []
  }
 ],
 "metadata": {
  "jupytext": {
   "cell_metadata_filter": "-all",
   "main_language": "python",
   "notebook_metadata_filter": "-all"
  },
  "kernelspec": {
   "display_name": ".venv",
   "language": "python",
   "name": "python3"
  },
  "language_info": {
   "codemirror_mode": {
    "name": "ipython",
    "version": 3
   },
   "file_extension": ".py",
   "mimetype": "text/x-python",
   "name": "python",
   "nbconvert_exporter": "python",
   "pygments_lexer": "ipython3",
   "version": "3.10.12"
  }
 },
 "nbformat": 4,
 "nbformat_minor": 5
}
